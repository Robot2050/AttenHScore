{
 "cells": [
  {
   "cell_type": "code",
   "execution_count": 9,
   "id": "f1c06af9",
   "metadata": {},
   "outputs": [],
   "source": [
    "import random\n",
    "import math\n",
    "import json\n",
    "\n",
    "# 设置随机种子，确保随机数生成是可复现的\n",
    "random.seed(42)\n",
    "\n",
    "with open('huanjue/other_model/multifieldqa_zh_vicuna_7B_QA_top10.json', 'r', encoding='utf-8') as file:  \n",
    "    qa_data1 = json.load(file)\n",
    "with open('huanjue/newllm_ans/multifieldqa_zh_yiyan_top10.json', 'r', encoding='utf-8') as file:  \n",
    "    qa_data2 = json.load(file)\n",
    "\n",
    "call_percentage=0.4\n",
    "call_time=math.ceil(len(qa_data1)*call_percentage)\n",
    "random_indices = random.sample(range(len(qa_data1)), call_time)\n",
    "\n",
    "# 创建一个新列表，根据随机索引从list2中取值，其他位置从list1中取值\n",
    "new_list = [qa_data2[i] if i in random_indices else item for i,item in enumerate(qa_data1)]\n",
    "\n",
    "with open('huanjue/judge_merge/random/multifieldqa_zh_top10_yiyan.json', 'w', encoding='utf-8') as sfile:\n",
    "    json.dump(new_list, sfile, ensure_ascii=False, indent=4)"
   ]
  }
 ],
 "metadata": {
  "kernelspec": {
   "display_name": "Python 3",
   "language": "python",
   "name": "python3"
  },
  "language_info": {
   "codemirror_mode": {
    "name": "ipython",
    "version": 3
   },
   "file_extension": ".py",
   "mimetype": "text/x-python",
   "name": "python",
   "nbconvert_exporter": "python",
   "pygments_lexer": "ipython3",
   "version": "3.10.15"
  }
 },
 "nbformat": 4,
 "nbformat_minor": 5
}
